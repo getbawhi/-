{
 "cells": [
  {
   "cell_type": "code",
   "execution_count": 19,
   "id": "f69e1c88",
   "metadata": {},
   "outputs": [],
   "source": [
    "import numpy as np\n",
    "import re\n",
    "import glob\n",
    "import codecs\n",
    "import os\n",
    "import matplotlib.pyplot as plt\n",
    "\n",
    "import konlpy\n",
    "from konlpy.tag import Okt\n",
    "from sklearn.feature_extraction.text import TfidfVectorizer\n",
    "from sklearn.feature_extraction.text import CountVectorizer\n",
    "\n",
    "from sklearn.model_selection import train_test_split\n",
    "from sklearn.pipeline import Pipeline\n",
    "from sklearn.preprocessing import StandardScaler, MinMaxScaler\n",
    "\n",
    "\n",
    "from sklearn.svm import SVC\n",
    "\n",
    "from sklearn.decomposition import PCA\n",
    "\n",
    "from sklearn.metrics import confusion_matrix, accuracy_score\n",
    "from sklearn.metrics import precision_score, recall_score, f1_score\n",
    "\n",
    "from sklearn.model_selection import GridSearchCV\n",
    "\n"
   ]
  },
  {
   "cell_type": "markdown",
   "id": "ab8baca8",
   "metadata": {},
   "source": [
    "### text import"
   ]
  },
  {
   "cell_type": "code",
   "execution_count": 2,
   "id": "0e1617a7",
   "metadata": {},
   "outputs": [],
   "source": [
    "\n",
    "path = '/Users/tmp/Desktop/viral_model/data_set_all/data_test_60'\n",
    "\n",
    "data_list = []\n",
    "\n",
    "data_path = glob.glob(path + '/*.txt')\n",
    "\n",
    "# data_path => sorting by number\n",
    "\n",
    "data_path = sorted(data_path, key=lambda i : int(os.path.splitext(os.path.basename(i))[0]))\n",
    "\n",
    "# data import\n",
    "\n",
    "for file in range(len(data_path)):\n",
    "    with codecs.open(data_path[file], 'r', encoding = 'utf-8',\n",
    "                    errors = 'ignore') as f:\n",
    "        open_text = f.read()\n",
    "        open_text = re.sub('[\\n\\r\\t0-9\\-\\x0c❸ⓒ•a-zA-Z\"“‘>]', \"\",\n",
    "                    str(open_text.strip()))\n",
    "        data_list.append(open_text)\n",
    "        \n",
    "        "
   ]
  },
  {
   "cell_type": "markdown",
   "id": "1fdd6bf4",
   "metadata": {},
   "source": [
    "### 형태소 분리"
   ]
  },
  {
   "cell_type": "code",
   "execution_count": 3,
   "id": "9cae2e36",
   "metadata": {},
   "outputs": [],
   "source": [
    "\n",
    "t = Okt()\n",
    "\n",
    "data_token = [t.morphs(row) for row in data_list]\n",
    "\n",
    "\n",
    "# 토큰을 다시 한 문장으로 만들기\n",
    "\n",
    "data_sentence = []\n",
    "\n",
    "for content in data_token:\n",
    "    sentence = ''\n",
    "    for word in content:\n",
    "        sentence = sentence + ' ' + word\n",
    "        \n",
    "    data_sentence.append(sentence)\n"
   ]
  },
  {
   "cell_type": "markdown",
   "id": "49701d23",
   "metadata": {},
   "source": [
    "### CountVector"
   ]
  },
  {
   "cell_type": "code",
   "execution_count": 40,
   "id": "5fa556e0",
   "metadata": {},
   "outputs": [
    {
     "name": "stdout",
     "output_type": "stream",
     "text": [
      "[[0 0 0 ... 0 0 0]\n",
      " [0 0 0 ... 0 0 0]\n",
      " [0 0 0 ... 0 0 0]\n",
      " ...\n",
      " [0 0 0 ... 0 0 0]\n",
      " [0 0 0 ... 0 0 0]\n",
      " [0 0 0 ... 0 0 0]]\n"
     ]
    }
   ],
   "source": [
    "counter = CountVectorizer()\n",
    "\n",
    "counter.fit(data_token[0])\n",
    "\n",
    "\n",
    "\n",
    "\n",
    "    "
   ]
  },
  {
   "cell_type": "markdown",
   "id": "ed85f74b",
   "metadata": {},
   "source": [
    "### Vectorizer"
   ]
  },
  {
   "cell_type": "code",
   "execution_count": 4,
   "id": "d9aaf21f",
   "metadata": {},
   "outputs": [],
   "source": [
    "vectorizer = TfidfVectorizer(min_df = 3, ngram_range = (1,2))\n",
    "\n",
    "data_set = vectorizer.fit_transform(data_sentence)"
   ]
  },
  {
   "cell_type": "markdown",
   "id": "36675ee2",
   "metadata": {},
   "source": [
    "### Test split"
   ]
  },
  {
   "cell_type": "code",
   "execution_count": 8,
   "id": "4a680a83",
   "metadata": {},
   "outputs": [],
   "source": [
    "\n",
    "target = [0]* 20 + [1] * 20\n",
    "\n",
    "data_set = data_set.toarray(order = None, out = None)\n",
    "\n",
    "x_train, x_test, y_train, y_test = train_test_split(data_set, target, test_size = 0.2, random_state = 42)\n"
   ]
  },
  {
   "cell_type": "markdown",
   "id": "87124797",
   "metadata": {},
   "source": [
    "### pipe line / StandardScaler"
   ]
  },
  {
   "cell_type": "code",
   "execution_count": 9,
   "id": "5bfbb8af",
   "metadata": {},
   "outputs": [],
   "source": [
    "pipeline = Pipeline([\n",
    "    ('min_max_scaler', MinMaxScaler()),\n",
    "    ('std_scaler', StandardScaler())\n",
    "])\n",
    "\n",
    "x_train = pipeline.fit_transform(x_train)\n",
    "x_test = pipeline.transform(x_test)\n",
    "\n",
    "\n",
    "scaler = StandardScaler()\n",
    "x_train = scaler.fit_transform(x_train)\n",
    "x_test = scaler.transform(x_test)"
   ]
  },
  {
   "cell_type": "markdown",
   "id": "6cbafa9e",
   "metadata": {},
   "source": [
    "### PCA"
   ]
  },
  {
   "cell_type": "code",
   "execution_count": 10,
   "id": "3d74984e",
   "metadata": {},
   "outputs": [],
   "source": [
    "pca = PCA(n_components = 3)\n",
    "\n",
    "x_train2 = pca.fit_transform(x_train)\n",
    "x_test2 = pca.transform(x_test)"
   ]
  },
  {
   "cell_type": "markdown",
   "id": "f555db32",
   "metadata": {},
   "source": [
    "### Graph"
   ]
  },
  {
   "cell_type": "code",
   "execution_count": 11,
   "id": "535a73bc",
   "metadata": {},
   "outputs": [
    {
     "data": {
      "text/plain": [
       "<matplotlib.collections.PathCollection at 0x7f8c07ea0e50>"
      ]
     },
     "execution_count": 11,
     "metadata": {},
     "output_type": "execute_result"
    },
    {
     "data": {
      "image/png": "[encoded data removed]",
      "text/plain": [
       "<Figure size 800x600 with 1 Axes>"
      ]
     },
     "metadata": {},
     "output_type": "display_data"
    }
   ],
   "source": [
    "plt.figure(figsize = (8,6))\n",
    "plt.scatter(x_train2[:,0], x_train2[:,1], c = y_train, cmap = 'plasma')"
   ]
  },
  {
   "cell_type": "markdown",
   "id": "bff25cb2",
   "metadata": {},
   "source": [
    "### 특성별 최소, 최대 스케일링"
   ]
  },
  {
   "cell_type": "code",
   "execution_count": 15,
   "id": "f7482029",
   "metadata": {},
   "outputs": [],
   "source": [
    "min_on_training = x_train2.min(axis = 0)\n",
    "\n",
    "range_on_training = (x_train2 - min_on_training).max(axis = 0)\n",
    "\n",
    "x_train_scaled = (x_train2 - min_on_training) / range_on_training\n",
    "x_test_scaled = (x_test2 - min_on_training) / range_on_training\n"
   ]
  },
  {
   "cell_type": "markdown",
   "id": "7349ca8f",
   "metadata": {},
   "source": [
    "### GridSearchCV"
   ]
  },
  {
   "cell_type": "code",
   "execution_count": 16,
   "id": "713d90a6",
   "metadata": {},
   "outputs": [],
   "source": [
    "# param_grid = {'C': [0.01,0.1,0.5,1,10,100],\n",
    "#              'gamma': [1,0.75, 0.5, 0.25, 0.1, 0.01, 0.001],\n",
    "#              'kernel' : ['rbf','poly''linear']}\n",
    "\n",
    "\n",
    "# grid = GridSearchCV(SVC(), param_grid = param_grid, cv = 5, refit = True, verbose = 1)\n",
    "\n",
    "\n",
    "              \n",
    "# grid.fit(x_train_scaled,y_train)\n",
    "              \n",
    "# grid.best_params_"
   ]
  },
  {
   "cell_type": "markdown",
   "id": "b5f048e6",
   "metadata": {},
   "source": [
    "### svm fit"
   ]
  },
  {
   "cell_type": "code",
   "execution_count": 17,
   "id": "5ba67ccc",
   "metadata": {},
   "outputs": [
    {
     "data": {
      "text/html": [
       "<style>#sk-container-id-1 {color: black;background-color: white;}#sk-container-id-1 pre{padding: 0;}#sk-container-id-1 div.sk-toggleable {background-color: white;}#sk-container-id-1 label.sk-toggleable__label {cursor: pointer;display: block;width: 100%;margin-bottom: 0;padding: 0.3em;box-sizing: border-box;text-align: center;}#sk-container-id-1 label.sk-toggleable__label-arrow:before {content: \"▸\";float: left;margin-right: 0.25em;color: #696969;}#sk-container-id-1 label.sk-toggleable__label-arrow:hover:before {color: black;}#sk-container-id-1 div.sk-estimator:hover label.sk-toggleable__label-arrow:before {color: black;}#sk-container-id-1 div.sk-toggleable__content {max-height: 0;max-width: 0;overflow: hidden;text-align: left;background-color: #f0f8ff;}#sk-container-id-1 div.sk-toggleable__content pre {margin: 0.2em;color: black;border-radius: 0.25em;background-color: #f0f8ff;}#sk-container-id-1 input.sk-toggleable__control:checked~div.sk-toggleable__content {max-height: 200px;max-width: 100%;overflow: auto;}#sk-container-id-1 input.sk-toggleable__control:checked~label.sk-toggleable__label-arrow:before {content: \"▾\";}#sk-container-id-1 div.sk-estimator input.sk-toggleable__control:checked~label.sk-toggleable__label {background-color: #d4ebff;}#sk-container-id-1 div.sk-label input.sk-toggleable__control:checked~label.sk-toggleable__label {background-color: #d4ebff;}#sk-container-id-1 input.sk-hidden--visually {border: 0;clip: rect(1px 1px 1px 1px);clip: rect(1px, 1px, 1px, 1px);height: 1px;margin: -1px;overflow: hidden;padding: 0;position: absolute;width: 1px;}#sk-container-id-1 div.sk-estimator {font-family: monospace;background-color: #f0f8ff;border: 1px dotted black;border-radius: 0.25em;box-sizing: border-box;margin-bottom: 0.5em;}#sk-container-id-1 div.sk-estimator:hover {background-color: #d4ebff;}#sk-container-id-1 div.sk-parallel-item::after {content: \"\";width: 100%;border-bottom: 1px solid gray;flex-grow: 1;}#sk-container-id-1 div.sk-label:hover label.sk-toggleable__label {background-color: #d4ebff;}#sk-container-id-1 div.sk-serial::before {content: \"\";position: absolute;border-left: 1px solid gray;box-sizing: border-box;top: 0;bottom: 0;left: 50%;z-index: 0;}#sk-container-id-1 div.sk-serial {display: flex;flex-direction: column;align-items: center;background-color: white;padding-right: 0.2em;padding-left: 0.2em;position: relative;}#sk-container-id-1 div.sk-item {position: relative;z-index: 1;}#sk-container-id-1 div.sk-parallel {display: flex;align-items: stretch;justify-content: center;background-color: white;position: relative;}#sk-container-id-1 div.sk-item::before, #sk-container-id-1 div.sk-parallel-item::before {content: \"\";position: absolute;border-left: 1px solid gray;box-sizing: border-box;top: 0;bottom: 0;left: 50%;z-index: -1;}#sk-container-id-1 div.sk-parallel-item {display: flex;flex-direction: column;z-index: 1;position: relative;background-color: white;}#sk-container-id-1 div.sk-parallel-item:first-child::after {align-self: flex-end;width: 50%;}#sk-container-id-1 div.sk-parallel-item:last-child::after {align-self: flex-start;width: 50%;}#sk-container-id-1 div.sk-parallel-item:only-child::after {width: 0;}#sk-container-id-1 div.sk-dashed-wrapped {border: 1px dashed gray;margin: 0 0.4em 0.5em 0.4em;box-sizing: border-box;padding-bottom: 0.4em;background-color: white;}#sk-container-id-1 div.sk-label label {font-family: monospace;font-weight: bold;display: inline-block;line-height: 1.2em;}#sk-container-id-1 div.sk-label-container {text-align: center;}#sk-container-id-1 div.sk-container {/* jupyter's `normalize.less` sets `[hidden] { display: none; }` but bootstrap.min.css set `[hidden] { display: none !important; }` so we also need the `!important` here to be able to override the default hidden behavior on the sphinx rendered scikit-learn.org. See: https://github.com/scikit-learn/scikit-learn/issues/21755 */display: inline-block !important;position: relative;}#sk-container-id-1 div.sk-text-repr-fallback {display: none;}</style><div id=\"sk-container-id-1\" class=\"sk-top-container\"><div class=\"sk-text-repr-fallback\"><pre>SVC(C=5, gamma=1, kernel=&#x27;linear&#x27;, probability=True, random_state=42)</pre><b>In a Jupyter environment, please rerun this cell to show the HTML representation or trust the notebook. <br />On GitHub, the HTML representation is unable to render, please try loading this page with nbviewer.org.</b></div><div class=\"sk-container\" hidden><div class=\"sk-item\"><div class=\"sk-estimator sk-toggleable\"><input class=\"sk-toggleable__control sk-hidden--visually\" id=\"sk-estimator-id-1\" type=\"checkbox\" checked><label for=\"sk-estimator-id-1\" class=\"sk-toggleable__label sk-toggleable__label-arrow\">SVC</label><div class=\"sk-toggleable__content\"><pre>SVC(C=5, gamma=1, kernel=&#x27;linear&#x27;, probability=True, random_state=42)</pre></div></div></div></div></div>"
      ],
      "text/plain": [
       "SVC(C=5, gamma=1, kernel='linear', probability=True, random_state=42)"
      ]
     },
     "execution_count": 17,
     "metadata": {},
     "output_type": "execute_result"
    }
   ],
   "source": [
    "svm_clf2 = SVC(C = 5, gamma = 1, kernel = 'linear', probability = True, random_state = 42)\n",
    "\n",
    "svm_clf2.fit(x_train_scaled,y_train)"
   ]
  },
  {
   "cell_type": "markdown",
   "id": "cdaa9c99",
   "metadata": {},
   "source": [
    "### Score"
   ]
  },
  {
   "cell_type": "code",
   "execution_count": 18,
   "id": "20ae8fb7",
   "metadata": {},
   "outputs": [
    {
     "name": "stdout",
     "output_type": "stream",
     "text": [
      "train  0.96875\n",
      "test  1.0\n"
     ]
    }
   ],
   "source": [
    "print(\"train \", svm_clf2.score(x_train_scaled, y_train))\n",
    "print(\"test \", svm_clf2.score(x_test_scaled,y_test))"
   ]
  }
 ],
 "metadata": {
  "kernelspec": {
   "display_name": "Python 3 (ipykernel)",
   "language": "python",
   "name": "python3"
  },
  "language_info": {
   "codemirror_mode": {
    "name": "ipython",
    "version": 3
   },
   "file_extension": ".py",
   "mimetype": "text/x-python",
   "name": "python",
   "nbconvert_exporter": "python",
   "pygments_lexer": "ipython3",
   "version": "3.9.13"
  }
 },
 "nbformat": 4,
 "nbformat_minor": 5
}
