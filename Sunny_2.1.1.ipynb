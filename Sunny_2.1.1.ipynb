{
 "cells": [
  {
   "cell_type": "markdown",
   "id": "1f8cc0cd",
   "metadata": {},
   "source": [
    "### 라이브러리 불러오기 및 상수값 설정"
   ]
  },
  {
   "cell_type": "code",
   "execution_count": null,
   "id": "b5a2bec0",
   "metadata": {},
   "outputs": [],
   "source": [
    "import tensorflow as tf\n",
    "\n",
    "INPUT_SIZE = (20,1)\n",
    "CONV_INPUT_SIZE = (1,28,28)\n",
    "IS_TRAINING = True"
   ]
  },
  {
   "cell_type": "markdown",
   "id": "dda74fc0",
   "metadata": {},
   "source": [
    "### Dense Layer"
   ]
  },
  {
   "cell_type": "code",
   "execution_count": null,
   "id": "7c63286e",
   "metadata": {},
   "outputs": [],
   "source": [
    "INPUT_SIZE = (20,1)\n",
    "\n",
    "inputs = tf.keras.layers.Input(shape = INPUT_SIZE)\n",
    "output = tf.keras.layers.Dense(units = 10, activation = tf.nn.sigmoid)(inputs)\n",
    "\n",
    "# 시그모이드 활성 함수 사용, 출력 값으로 10개의 값 출력\n",
    "# 완전 연결 계층 (Fully Connected Layer)"
   ]
  },
  {
   "cell_type": "markdown",
   "id": "64dfad46",
   "metadata": {},
   "source": [
    "* Dense 층을 생성할 때 두가지 방법이 있음 \n",
    " \n",
    " 1) 객체를 생성한 후 다시 호출하여 입력\n",
    " \n",
    " 2) 객체 생성 시 입력값 설정\n",
    " \n",
    " \n",
    " * Dense 층을 만들 때 여러 인자를 통해 옵션을 정할 수 있음 \n",
    " \n",
    " 예시) 가중치, 편향 초기화 방법, 활성화 함수 종류 등 \n",
    " \n",
    " "
   ]
  },
  {
   "cell_type": "markdown",
   "id": "9f353372",
   "metadata": {},
   "source": [
    "### Dense Layer with 1 hidden Layer"
   ]
  },
  {
   "cell_type": "code",
   "execution_count": 2,
   "id": "3e072fc7",
   "metadata": {
    "scrolled": true
   },
   "outputs": [],
   "source": [
    "import tensorflow as tf\n",
    "\n",
    "INPUT_SIZE = (20,1)\n",
    "\n",
    "inputs = tf.keras.layers.Input(shape = INPUT_SIZE)\n",
    "hidden = tf.keras.layers.Dense(units = 10, activation = tf.nn.sigmoid)(inputs)\n",
    "output = tf.keras.layers.Dense(units = 2, activation = tf.nn.sigmoid)(hidden)\n",
    "\n",
    "# 10개의 노드를 가진 '은닉층'\n",
    "# 최종 출력 노드는 2개인 신경망 구조 예시"
   ]
  },
  {
   "cell_type": "markdown",
   "id": "122fb602",
   "metadata": {},
   "source": [
    "### Dropout"
   ]
  },
  {
   "cell_type": "markdown",
   "id": "cdd98c11",
   "metadata": {},
   "source": [
    "* 과적합 문제 해결 방법 중 하나\n",
    "    - 정규화 (Regularization) 방법을 사용해 해결\n",
    "    - 가장 대표적인 방법이 'Dropout'"
   ]
  },
  {
   "cell_type": "code",
   "execution_count": null,
   "id": "985c1af1",
   "metadata": {},
   "outputs": [],
   "source": [
    "inputs = tf.keras.layers.Input(shape = INPUT_SIZE)\n",
    "dropout = tf.keras.layers.Dropout(rate = 0.2)(inputs)\n",
    "hidden = tf.keras.layers.Dense(units = 10, activation = tf.nn.sigmoid)(dropout)\n",
    "output = tf.keras.layers.Desne(units = 2, activation = tf.nn.sigmoid)(hidden)\n",
    "\n",
    "# 입력값에 dropout 적용 후 Dense층을 지나게 함"
   ]
  },
  {
   "cell_type": "markdown",
   "id": "a159537a",
   "metadata": {},
   "source": [
    "* Dropout 인자 \n",
    "\n",
    "     1) rate = 드롭아웃을 적용할 확률! / 0~1 값을 받음\n",
    " \n",
    "         (예) dropout = 0.2 면 전체 입력 값 중 20%만 받음\n",
    "     \n",
    "     \n",
    "     2) noise_shpae = 정수형의 1D-tensor값을 받음\n",
    " \n",
    "         여기서 받은 값은 shape를 의미함 , 이 값을 지정해서 특정 값을 dropout함\n",
    "     \n",
    "     3) seed = random으로 dropout 하는데 이 때, seed 정해주면 동일한 dropout 결과를 갖음"
   ]
  },
  {
   "cell_type": "markdown",
   "id": "f0a4fe10",
   "metadata": {},
   "source": [
    "* Dropout 이해 (적용하는 과정) \n",
    "\n",
    "\n",
    "    - 학습 data에 과적합 되는 것을 방지하기 위해 학습 시 특정 확률로 노드들의 값을 0으로 만듦\n",
    "    - 이러한 과정은 학습 떄에만 적용된다 !!! \n",
    "    - 예측, 테스트 할 때는 적용되면 안됨 !!!"
   ]
  },
  {
   "cell_type": "markdown",
   "id": "d0bf435f",
   "metadata": {},
   "source": [
    "### Convolutional layer"
   ]
  },
  {
   "cell_type": "code",
   "execution_count": null,
   "id": "f4dfac38",
   "metadata": {},
   "outputs": [],
   "source": [
    "inputs = tf.keras.layers.Input(shape = INPUT_SIZE)\n",
    "conv = tf.keras.layers.CovID(\n",
    "    filters = 10,\n",
    "    kernel_size = 3,\n",
    "    padding = 'same',\n",
    "    activation = tf.nn.relu)(inputs)"
   ]
  },
  {
   "cell_type": "markdown",
   "id": "af0c2b85",
   "metadata": {},
   "source": [
    "* 합성곱 Conv1D\n",
    "\n",
    "    (1) conv!D - 한 방향 (가로)            - 1D Array(vertor)</br>\n",
    "    (2) conv2D - 두 방향 (가로, 세로)       - 2D Array(matrix)</br>\n",
    "    (3) conv3D - 세 방향 (가로, 세로, 높이)  - 3D Array(tensor)\n",
    " \n",
    "\n",
    "    =>> 위의 표의 출력 값이 실제 합성곱 출력값과 동일하지는 않음 </br>\n",
    "        (배치 크기, 합성곱이 적용되는 필터 수도 고려)\n",
    "        \n",
    "        \n",
    "</br>        \n",
    "* 합성곱 Conv1D 원리 \n",
    "\n",
    "    (1) 굵은 사각형이 하나의 필터가 됨 (교재의 그림 있음)</br>\n",
    "    (2) 이 필터는 가로 방향으로만 옮겨가면서 (slide) 입력값에 대해 합성곱을 수행 함 \n",
    "    (3) 연산 결과들이 모여서 최종 출력 값으로 나옴 -> 1차원 벡터로 나옴 \n",
    "    \n",
    "    \n",
    "    \n",
    "</br>    \n",
    "* 합성곱의 인자 \n",
    "\n",
    "    (1) kernel_size : 필터의 가로에 적용</br>\n",
    "    (2) filters: 필터의 갯수 </br>\n",
    "        -> 예) (5,10) 형태의 입력값\n",
    "        \n",
    "               kernel size = 2, filters = 10</br>\n",
    "               출력값 : (1,4,10)\n",
    "               \n",
    "    (3) padding = \"same\" </br>\n",
    "                -> 입력과 출력의 가로 길이가 같아진다. \n",
    "                    \n",
    "                    \n",
    "        (더 많은 인자값은 p.27) \n",
    "               "
   ]
  },
  {
   "cell_type": "markdown",
   "id": "7e2080c1",
   "metadata": {},
   "source": [
    "### 맥스 풀링 "
   ]
  },
  {
   "cell_type": "markdown",
   "id": "28dd1c3c",
   "metadata": {},
   "source": [
    "* 맥스 풀링 (Max-pooling) </br>\n",
    "    : 합성곱 신경망과 함께 쓰이는 기법중 하나 </br>\n",
    "    : 주로 피처 맵 (Feature Map) 크기를 줄이거나 , 주요한 특징을 뽑아내기 위해 합성곱 이후에 적용되는 기법 </br>\n",
    "    \n",
    "    </br>\n",
    "    \n",
    "* 사용법은 아래 코드 "
   ]
  },
  {
   "cell_type": "code",
   "execution_count": null,
   "id": "08eb660b",
   "metadata": {},
   "outputs": [],
   "source": [
    "import tensorflow as tf\n",
    "\n",
    "#1. 객체 생성 후 apply 함수를 이용해 입력값 설정\n",
    "\n",
    "max_pool = tf.keras.layers.MaxPool1D(...)\n",
    "max_pool.apply(input)\n",
    "\n",
    "\n",
    "#2. 객체 생성 시 입력값 설정\n",
    "\n",
    "max_pool = tf.keras.layers.Maxpool(...)(input)"
   ]
  },
  {
   "cell_type": "markdown",
   "id": "16490663",
   "metadata": {},
   "source": [
    "* 풀링 종류 </br>\n",
    "    1) 맥스 풀링 : 피처맵의 최대값만을 뽑음 </br>\n",
    "    2) 평균 풀링 : 피처맵의 전체값들을 평균한 값을 뽑음 </br>\n",
    "    \n",
    "    \n",
    "* 맥스 풀링 종류 </br> \n",
    "    1) MaxPool1D </br>\n",
    "    2) MaxPool2D </br>\n",
    "    3) MaxPool3D </br>\n",
    "    \n",
    "    => 합성곱과 같은 원리 \n",
    "    \n",
    "    * 자연어 처리에 주로 사용되는 MaxPool1D는 한 방향으로만 풀링을 진행함 "
   ]
  },
  {
   "cell_type": "markdown",
   "id": "ce662276",
   "metadata": {},
   "source": [
    "### Input -> Droupout ->Convolutional layer -> MaxPooling -> Dense layer with 1 hidden layer -> Output"
   ]
  },
  {
   "cell_type": "code",
   "execution_count": 15,
   "id": "f23c36ca",
   "metadata": {},
   "outputs": [
    {
     "name": "stdout",
     "output_type": "stream",
     "text": [
      "(None, 10)\n"
     ]
    }
   ],
   "source": [
    "import tensorflow as tf\n",
    "\n",
    "INPUT_SIZE = (28,28)\n",
    "\n",
    "\n",
    "inputs = tf.keras.Input(shape = INPUT_SIZE)\n",
    "dropout = tf.keras.layers.Dropout(rate = 0.2)(inputs)\n",
    "# dropout 0.2 적용이므로 20퍼센트만 인풋에 드롭아웃 적용\n",
    "\n",
    "conv = tf.keras.layers.Conv1D(\n",
    "    filters = 10,         # filter 갯수는 10\n",
    "    kernel_size = 3,      # 필터 가로 크기 3\n",
    "    padding = 'same',     # 패딩은 같게 (입력과 출력의 크기가 같아짐)\n",
    "    activation = tf.nn.relu)(dropout) # 활성화 함수 : relu\n",
    "\n",
    "# conv1D 로 합성곱 / 1차원 벡터 \n",
    "\n",
    "max_pool = tf.keras.layers.MaxPool1D(\n",
    "    pool_size = 3,           # pooling 을 적용할 필터의 크기 : 3\n",
    "    padding = 'same')(conv)  # 패딩 같게 , 입력과 출력의 크기가 같아짐 \n",
    "\n",
    "# max_pooling 적용, 맥스 풀링 결괏값을 완전 연결 계층으로 연결하기 위해서는 행렬이었던 것을 벡터로 만들어야 함 \n",
    "# 이 때 Flatten 을 사용 -> Flatten 은 별다른 인자값이 없이도 사용 가능\n",
    "\n",
    "flatten = tf.keras.layers.Flatten()(max_pool)\n",
    "\n",
    "hidden = tf.keras.layers.Dense(units = 50, activation = tf.nn.relu)(flatten)\n",
    "output = tf.keras.layers.Dense(units = 10, activation = tf.nn.softmax)(hidden)\n",
    "\n",
    "print(output.shape)"
   ]
  },
  {
   "cell_type": "markdown",
   "id": "a60d55b1",
   "metadata": {},
   "source": [
    "### 오류이슈\n",
    "\n",
    "\n",
    "* INPUT_SIZE = (1,28,28)  ->  error</br>\n",
    "  \n",
    "    => (28,28) 로 바꾸니 해결 됨 (이유는 아직 모름)(Muneeb이 도와줌 ㅠㅠ)\n",
    "    "
   ]
  },
  {
   "cell_type": "code",
   "execution_count": null,
   "id": "7adf2a33",
   "metadata": {},
   "outputs": [],
   "source": []
  }
 ],
 "metadata": {
  "kernelspec": {
   "display_name": "Python 3 (ipykernel)",
   "language": "python",
   "name": "python3"
  },
  "language_info": {
   "codemirror_mode": {
    "name": "ipython",
    "version": 3
   },
   "file_extension": ".py",
   "mimetype": "text/x-python",
   "name": "python",
   "nbconvert_exporter": "python",
   "pygments_lexer": "ipython3",
   "version": "3.9.13"
  }
 },
 "nbformat": 4,
 "nbformat_minor": 5
}
