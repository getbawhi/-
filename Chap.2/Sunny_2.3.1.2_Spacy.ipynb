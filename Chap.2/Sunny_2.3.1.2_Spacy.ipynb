{
 "cells": [
  {
   "cell_type": "markdown",
   "id": "f8d6249f",
   "metadata": {},
   "source": [
    "# Spacy"
   ]
  },
  {
   "cell_type": "markdown",
   "id": "1a066af8",
   "metadata": {},
   "source": [
    "* 다음 명령어를 통해 en 자료를 설치해야 한다.\n",
    "</br></br>\n",
    "python -m spacy download en"
   ]
  },
  {
   "cell_type": "code",
   "execution_count": 4,
   "id": "5d82c89e",
   "metadata": {},
   "outputs": [
    {
     "name": "stdout",
     "output_type": "stream",
     "text": [
      "['Natural', 'language', 'proccesing', '(', 'NLP', ')', 'is', 'a', 'subfield', 'of', 'computer', 'sciencence', ',', '           ', 'information', 'engineering', ',', 'and', 'artificial', 'intelligence', 'concerned', 'with', 'the', 'interactions', '           ', 'between', 'computers', 'and', 'human', '(', 'natural', ')', 'languages', ',', 'in', 'particular', 'how', 'to', 'program', 'comtuers', '           ', 'to', 'process', 'and', 'analyze', 'large', 'amount', 'of', 'natural', 'language', 'data', '.']\n",
      "['Natural language proccesing (NLP) is a subfield of computer sciencence,            information engineering, and artificial intelligence concerned with the interactions            between computers and human (natural) languages, in particular how to program comtuers            to process and analyze large amount of natural language data.']\n"
     ]
    }
   ],
   "source": [
    "import spacy\n",
    "\n",
    "\n",
    "# 먼저 spacy.load('en')을 통해 토크나이징 할 객체를 생성해서 nlp 변수에 할당한다\n",
    "\n",
    "nlp = spacy.load('en_core_web_sm')\n",
    "sentence = \"Natural language proccesing (NLP) is a subfield of computer sciencence,\\\n",
    "            information engineering, and artificial intelligence concerned with the interactions\\\n",
    "            between computers and human (natural) languages, in particular how to program comtuers\\\n",
    "            to process and analyze large amount of natural language data.\"\n",
    "\n",
    "# nlp(sentence)로 nlp 객체의 함수를 호출하자 \n",
    "# 이후 doc 변수에 할당한다\n",
    "\n",
    "doc = nlp(sentence)\n",
    "\n",
    "# 이제 doc 객체를 가지고 입력 텍스트에 대한 단어 토크나이징과 문장 토크나이징을 할 수 있다\n",
    "\n",
    "word_tokenized_sentence = [token.text for token in doc]\n",
    "sentence_tokenized_list = [sent.text for sent in doc.sents]\n",
    "\n",
    "print(word_tokenized_sentence)\n",
    "print(sentence_tokenized_list)"
   ]
  }
 ],
 "metadata": {
  "kernelspec": {
   "display_name": "Python 3 (ipykernel)",
   "language": "python",
   "name": "python3"
  },
  "language_info": {
   "codemirror_mode": {
    "name": "ipython",
    "version": 3
   },
   "file_extension": ".py",
   "mimetype": "text/x-python",
   "name": "python",
   "nbconvert_exporter": "python",
   "pygments_lexer": "ipython3",
   "version": "3.9.13"
  }
 },
 "nbformat": 4,
 "nbformat_minor": 5
}
