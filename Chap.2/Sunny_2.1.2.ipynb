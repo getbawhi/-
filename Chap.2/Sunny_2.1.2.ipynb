{
 "cells": [
  {
   "cell_type": "markdown",
   "id": "db677503",
   "metadata": {},
   "source": [
    "## TensorFlow 2.0\n",
    "\n",
    "    - api 정리 </br>\n",
    "    - 이거 모드 (Eager execution)\n",
    "    - 전역 메커니즘 제거 (no more globals)\n",
    "    - 세션을 대신하는 함수 (Functions, not Sessions)\n",
    "    \n",
    "    \n",
    "    * 이거 모드\n",
    "    \n",
    "    - 기존 Tensorflow는 연산의 결과를 알기 위해 연산 그래프를 만든 후 session.run()를 통해 실행해야 했음\n",
    "    - 2.0은 파이썬과 동일한 이거 모드로 실행 되므로 연산을 구성하며 바로바로 값을 확인할 수 있음!\n",
    "    \n",
    "   \n",
    "    * 모델 구축\n",
    "    \n",
    "    - 텐서플로 2.0에서는 케라스를 활용해 모델을 구축하고 학습하길 권장함\n",
    "    \n",
    "    1) Sequential API \n",
    "    2) Functional API\n",
    "    3) Functional / Sezuential API + Custom Layers\n",
    "    4) Subclassing (Custom Model)\n",
    "    \n",
    "        + 이 책은 주로 Subclassing을 이용할 것이다.\n",
    "        "
   ]
  },
  {
   "cell_type": "markdown",
   "id": "adebb61c",
   "metadata": {},
   "source": [
    "### Sequential API\n",
    "\n",
    "    - 케라스를 활용해 가장 간단한 형태의 모델을 구축할 수 있는 API\n",
    "    - 순차적인 레이어의 스택 구현 가능"
   ]
  },
  {
   "cell_type": "code",
   "execution_count": 2,
   "id": "43681c8e",
   "metadata": {},
   "outputs": [],
   "source": [
    "import tensorflow as tf\n",
    "from tensorflow.keras import layers\n",
    "\n",
    "model = tf.keras.Sequential()\n",
    "model.add(layers.Dense(64, activation = 'relu'))\n",
    "model.add(layers.Dense(64, activation = 'relu'))\n",
    "model.add(layers.Dense(10, activation = 'softmax'))"
   ]
  },
  {
   "cell_type": "markdown",
   "id": "573705e1",
   "metadata": {},
   "source": [
    "* 레이어를 순차적으로 더하기만 하면 모델이 완성된다.\n",
    "\n",
    "* Sequential 모듈의 경우 위와 같이 구현 자체가 매우 간단함\n",
    "\n",
    "* 하지만 모델 층들이 순차적으로 구성되어 있지 않은 경우에는 Sequential 모듈을 사용해 구현하기 어려울 수 있다\n",
    "    - 예를 들면 VQA(Visual Question Answering) 문제 \n",
    "        : 사진 데이터에서 특징을 뽑는 레이어와 질문 텍스트 데이터에서 특징을 뽑는 두 레이어가 각기 순차적으로 존재 </br>\n",
    "         따라서 최종 출력값을 뽑기 위해서는 이 두 값을 합쳐야 하는데 Sequential 모듈로는 두 개의 값을 합칠 수가 없기 때문에</br>\n",
    "         여러 제약이 존재한다.\n",
    "         \n",
    "         \n",
    "* Sequential 모듈을 사용하기 어려운 경우\n",
    "\n",
    "    - 다중 입력값 모델 (Multi-input models)\n",
    "    - 다중 출력값 모델 (Multi-output models)\n",
    "    - 공유 층을 활용하는 모델 (Models with shared layers)\n",
    "    - 데이터의 흐름이 순차적이지 않은 모델 (Models with non-sequential data flows)"
   ]
  },
  {
   "cell_type": "markdown",
   "id": "2ad6313f",
   "metadata": {},
   "source": [
    "### Functional API\n",
    "\n",
    "    * 위에 나열한 Sequential 모듈을 사용하기 어려운 경우 Functional 모듈 혹은 Subclassing 방식을 사용하는 것이 적절할 수 있다.\n",
    "\n",
    "\n"
   ]
  },
  {
   "cell_type": "code",
   "execution_count": null,
   "id": "8f4d7030",
   "metadata": {},
   "outputs": [],
   "source": [
    "import tensorflow as tf\n",
    "from tensorflow.keras import layers\n",
    "\n",
    "x = layers.Dense(64,activation = 'relu')(inputs)\n",
    "x = layers.Dense(64, activation = 'relu')(x)\n",
    "predictions = layers.Dense(10, activation ='softmax')(x)"
   ]
  },
  {
   "cell_type": "markdown",
   "id": "070cf17d",
   "metadata": {},
   "source": [
    " * Functional API를 활용하기 위해서는 입력밧을 받는 Input 모듈을 선언해야 한다.\n",
    " \n",
    " * 이 모듈을 선언할 때는 모델의 입력으로 받는 값의 형태(shape)를 정의하면 된다.\n",
    " \n",
    " * 이 Input 모듈을 정의한 후 입력값을 적용할 레이어를 호출할 때 인자로 전달하는 방식으로 구현하면 된다.\n",
    " \n",
    " * 이처럼 정의한 후 최종 출력값을 사용해 모델을 학습하면 된다. "
   ]
  },
  {
   "cell_type": "markdown",
   "id": "857a11e3",
   "metadata": {},
   "source": [
    "### Custom Layer\n",
    "\n",
    "* 앞에서는 케라스의 layers 패키지에 정의된 레이어를 사용해 구현했다.\n",
    "\n",
    "* 때때로 새로운 연산을 하는 레이어 혹은 편의를 위해 여러 레이어를 하나로 묶은 레이어를 구현해야 하는 경우가 있다.</br>\n",
    "    : 이 때 사용자 정의 층 (custom layer)을 만들어 사용하면 된다.\n",
    "    \n",
    "    \n",
    "* 앞서 정의한 모델에서는 dense 층이 여러 번 사용된 신경망을 사용했다.</br>\n",
    "    -> 이 신경망을 하나의 레이어로 묶어 재사용을 높이고 싶다면 다음과 같이 새로운 사용자 정의 층으로 정의하면 된다."
   ]
  },
  {
   "cell_type": "code",
   "execution_count": null,
   "id": "da5cb972",
   "metadata": {},
   "outputs": [],
   "source": [
    "class CustomLayer(layers.Layer):\n",
    "    \n",
    "    def __init__(self, hidden_dimension, hidden_dimension2, output_dimension):\n",
    "        self.hidden_dimension = hidden_dimension\n",
    "        self.hidden_dimension2 = hidden_dimension2\n",
    "        self.output_dimension = ouput_dimension\n",
    "        super(CustomLayer, self).__init__()\n",
    "        \n",
    "        \n",
    "    def build(self, input_shape):\n",
    "        self.dense_layer1 = layers.Dense(self.hidden_dimension, activation = 'relu')\n",
    "        self.dense_layer2 = layers.Dense(self.hidden_dimension, activation = 'relu')\n",
    "        self.dense_layer3 = layers.Dense(self.output_dimension, activation = 'softmax')\n",
    "        \n",
    "    def call(self, inputs):\n",
    "        x = self.dense_layer1(inputs)\n",
    "        x = self.dense_layer2(x)\n",
    "        \n",
    "        \n",
    "        return self.dense_layer3(x)"
   ]
  },
  {
   "cell_type": "markdown",
   "id": "12971404",
   "metadata": {},
   "source": [
    "* 사용자 정의 층을 정의할 때 : layers 패키지의 Layer 클래스를 상속받고 위와 같이 3개의 메서드를 정의\n",
    "</br></br>\n",
    "* 우선 하이퍼파라미터는 객체를 생성할 때 호출되도록 __init__ 메서드에서 정의하고 \n",
    "</br></br>\n",
    "* 모델의 가중치와 관련된 값은 build 메서드에서 생성되도록 정의한다.\n",
    "</br></br>\n",
    "* 그리고 이렇게 정의한 값들을 이용해 call 메서드에서 해당 층의 로직을 정의하면 된다.\n",
    "</br></br>\n",
    "* 이렇게 정의한 사용자 정의 층은 Sequential API나 Functional API를 활용할 때 하나의 층으로 사용할 수 있다.\n",
    "</br></br>\n",
    "* 만약 Sequential 모듈을 활용한다면 아래와 같이 사용하면 됨 "
   ]
  },
  {
   "cell_type": "code",
   "execution_count": null,
   "id": "05470c07",
   "metadata": {},
   "outputs": [],
   "source": [
    "from tensorflow.keras import layers\n",
    "\n",
    "model = tf.kerasSequential()\n",
    "model.add(CustomLayer(64,64,10))"
   ]
  },
  {
   "cell_type": "code",
   "execution_count": null,
   "id": "c59bd60a",
   "metadata": {},
   "outputs": [],
   "source": []
  }
 ],
 "metadata": {
  "kernelspec": {
   "display_name": "Python 3 (ipykernel)",
   "language": "python",
   "name": "python3"
  },
  "language_info": {
   "codemirror_mode": {
    "name": "ipython",
    "version": 3
   },
   "file_extension": ".py",
   "mimetype": "text/x-python",
   "name": "python",
   "nbconvert_exporter": "python",
   "pygments_lexer": "ipython3",
   "version": "3.9.13"
  }
 },
 "nbformat": 4,
 "nbformat_minor": 5
}
