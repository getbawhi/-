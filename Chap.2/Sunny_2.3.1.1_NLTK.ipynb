{
 "cells": [
  {
   "cell_type": "markdown",
   "id": "11abb06a",
   "metadata": {},
   "source": [
    "# 자연어 토크나이징 도구 "
   ]
  },
  {
   "cell_type": "markdown",
   "id": "eeea69bf",
   "metadata": {},
   "source": [
    "## 영어 토크나이징 라이브러리\n",
    "\n",
    "* 영어의 경우 NLTK(Natural Language Toolkit) 와 Spacy가 토크나이징에 많이 쓰인다."
   ]
  },
  {
   "cell_type": "markdown",
   "id": "9610a7c9",
   "metadata": {},
   "source": [
    "### NLTK\n",
    "\n",
    "\n",
    "* NLTK : 파이썬에서 영어 텍스트 전처리 작업을 하는 데 많이 쓰이는 라이브러리이다\n",
    "</br></br>\n",
    "* NLTK는 말뭉치(corpus)를 내려받아 연동할 수 있어야 한다. "
   ]
  },
  {
   "cell_type": "code",
   "execution_count": 2,
   "id": "28219c7f",
   "metadata": {},
   "outputs": [
    {
     "name": "stdout",
     "output_type": "stream",
     "text": [
      "showing info https://raw.githubusercontent.com/nltk/nltk_data/gh-pages/index.xml\n"
     ]
    },
    {
     "data": {
      "text/plain": [
       "True"
      ]
     },
     "execution_count": 2,
     "metadata": {},
     "output_type": "execute_result"
    }
   ],
   "source": [
    "import nltk\n",
    "\n",
    "nltk.download()"
   ]
  },
  {
   "cell_type": "markdown",
   "id": "42499cec",
   "metadata": {},
   "source": [
    "* 토크나이징 : 텍스트에 대해 특정 기준 단위로 문장을 나누는 것을 의미한다."
   ]
  },
  {
   "cell_type": "code",
   "execution_count": 4,
   "id": "9dcbd9c4",
   "metadata": {},
   "outputs": [
    {
     "name": "stdout",
     "output_type": "stream",
     "text": [
      "['Natural', 'language', 'proccesing', '(', 'NLP', ')', 'is', 'a', 'subfield', 'of', 'computer', 'sciencence', ',', 'information', 'engineering', ',', 'and', 'artificial', 'intelligence', 'concerned', 'with', 'the', 'interactions', 'between', 'computers', 'and', 'human', '(', 'natural', ')', 'languages', ',', 'in', 'particular', 'how', 'to', 'program', 'comtuers', 'to', 'process', 'and', 'analyze', 'large', 'amount', 'of', 'natural', 'language', 'data', '.']\n"
     ]
    }
   ],
   "source": [
    "# 단어 단위 토크나이징 \n",
    "from nltk.tokenize import word_tokenize\n",
    "\n",
    "sentence = \"Natural language proccesing (NLP) is a subfield of computer sciencence, \\\n",
    "            information engineering, and artificial intelligence concerned with the interactions \\\n",
    "            between computers and human (natural) languages, in particular how to program comtuers \\\n",
    "            to process and analyze large amount of natural language data.\"\n",
    "\n",
    "print(word_tokenize(sentence))"
   ]
  },
  {
   "cell_type": "code",
   "execution_count": 9,
   "id": "7069f9f6",
   "metadata": {},
   "outputs": [
    {
     "name": "stdout",
     "output_type": "stream",
     "text": [
      "['Natural language proccesing (NLP) is a subfield of computer sciencence, information engineering, and artificial intelligence concerned with the interactions between computers and human (natural) languages, in particular how to program comtuers to process and analyze large amount of natural language data.', 'Challenges in natural language processing frequently involve speech recognition, natural language understanding, and natural language generation.']\n"
     ]
    }
   ],
   "source": [
    "# 문장 단위 토크나이징 \n",
    "\n",
    "from nltk.tokenize import sent_tokenize\n",
    "\n",
    "paragraph = \"Natural language proccesing (NLP) is a subfield of computer sciencence, information engineering, and artificial intelligence concerned with the interactions between computers and human (natural) languages, in particular how to program comtuers to process and analyze large amount of natural language data. Challenges in natural language processing frequently involve speech recognition, natural language understanding, and natural language generation.\"\n",
    "\n",
    "print(sent_tokenize(paragraph))"
   ]
  },
  {
   "cell_type": "code",
   "execution_count": null,
   "id": "de90d0fc",
   "metadata": {},
   "outputs": [],
   "source": []
  }
 ],
 "metadata": {
  "kernelspec": {
   "display_name": "Python 3 (ipykernel)",
   "language": "python",
   "name": "python3"
  },
  "language_info": {
   "codemirror_mode": {
    "name": "ipython",
    "version": 3
   },
   "file_extension": ".py",
   "mimetype": "text/x-python",
   "name": "python",
   "nbconvert_exporter": "python",
   "pygments_lexer": "ipython3",
   "version": "3.9.13"
  }
 },
 "nbformat": 4,
 "nbformat_minor": 5
}
