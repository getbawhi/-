{
 "cells": [
  {
   "cell_type": "markdown",
   "id": "5df34769",
   "metadata": {},
   "source": [
    "# 사이킷런"
   ]
  },
  {
   "cell_type": "markdown",
   "id": "8357d76c",
   "metadata": {},
   "source": [
    "## 사이킷런 소개\n",
    "\n",
    "* 파이썬용 머신러닝 라이브러리 \n",
    "\n",
    "* 지도학습 모듈\n",
    "    - 나이브 베이즈 (Naive Bayes)\n",
    "    - 의사 결정 트리 (Decision Trees)\n",
    "    - 서포트 벡터 머신 (Surpport Vector Machines)\n",
    "    \n",
    "</br>\n",
    "\n",
    "* 비지도 학습 모듈\n",
    "    - 군집화 (Clusting)\n",
    "    - 가우시한 혼합 모델 (Gaussain mixture models)\n",
    "    \n",
    "</br>\n",
    "\n",
    "* 모델 선택 / 평가 모듈\n",
    "    - 교차 검증 (cross validation)\n",
    "    - 모델 평가 (model evaluation)\n",
    "    \n",
    " </br>\n",
    " \n",
    " * 모델 변환 모듈\n",
    "     - 파이프라인\n",
    "     - 특징 추출 (Feature extraction)\n",
    "     - 데이터 전처리 (Preprocessing data)\n",
    "     - 차원 축소 (dimensionality reduce)\n",
    "     \n",
    "\n",
    "</br>\n",
    "\n",
    "* 기본 제공 데이터 셋이 있음\n"
   ]
  },
  {
   "cell_type": "markdown",
   "id": "4f221b14",
   "metadata": {},
   "source": [
    "### 학습할 모델 \n",
    "\n",
    "* k-최근접 이웃 분류기 (k-nearest neighbor clssifier) / 지도 학습 </br>\n",
    "* k-평균 군집화 (k-means Clustering) / 비지도 학습\n"
   ]
  },
  {
   "cell_type": "markdown",
   "id": "798510ea",
   "metadata": {},
   "source": [
    "### 데이터 알아보기"
   ]
  },
  {
   "cell_type": "code",
   "execution_count": 3,
   "id": "3857eb73",
   "metadata": {},
   "outputs": [
    {
     "name": "stdout",
     "output_type": "stream",
     "text": [
      "iris_dataset key: dict_keys(['data', 'target', 'frame', 'target_names', 'DESCR', 'feature_names', 'filename', 'data_module'])\n"
     ]
    }
   ],
   "source": [
    "from sklearn.datasets import load_iris ## 붓꽃 데이터\n",
    "\n",
    "iris_dataset = load_iris() ## 변수에 할당\n",
    "print(\"iris_dataset key: {}\".format(iris_dataset.keys()))"
   ]
  },
  {
   "cell_type": "code",
   "execution_count": 4,
   "id": "21027d9c",
   "metadata": {},
   "outputs": [
    {
     "name": "stdout",
     "output_type": "stream",
     "text": [
      "[[5.1 3.5 1.4 0.2]\n",
      " [4.9 3.  1.4 0.2]\n",
      " [4.7 3.2 1.3 0.2]\n",
      " [4.6 3.1 1.5 0.2]\n",
      " [5.  3.6 1.4 0.2]\n",
      " [5.4 3.9 1.7 0.4]\n",
      " [4.6 3.4 1.4 0.3]\n",
      " [5.  3.4 1.5 0.2]\n",
      " [4.4 2.9 1.4 0.2]\n",
      " [4.9 3.1 1.5 0.1]\n",
      " [5.4 3.7 1.5 0.2]\n",
      " [4.8 3.4 1.6 0.2]\n",
      " [4.8 3.  1.4 0.1]\n",
      " [4.3 3.  1.1 0.1]\n",
      " [5.8 4.  1.2 0.2]\n",
      " [5.7 4.4 1.5 0.4]\n",
      " [5.4 3.9 1.3 0.4]\n",
      " [5.1 3.5 1.4 0.3]\n",
      " [5.7 3.8 1.7 0.3]\n",
      " [5.1 3.8 1.5 0.3]\n",
      " [5.4 3.4 1.7 0.2]\n",
      " [5.1 3.7 1.5 0.4]\n",
      " [4.6 3.6 1.  0.2]\n",
      " [5.1 3.3 1.7 0.5]\n",
      " [4.8 3.4 1.9 0.2]\n",
      " [5.  3.  1.6 0.2]\n",
      " [5.  3.4 1.6 0.4]\n",
      " [5.2 3.5 1.5 0.2]\n",
      " [5.2 3.4 1.4 0.2]\n",
      " [4.7 3.2 1.6 0.2]\n",
      " [4.8 3.1 1.6 0.2]\n",
      " [5.4 3.4 1.5 0.4]\n",
      " [5.2 4.1 1.5 0.1]\n",
      " [5.5 4.2 1.4 0.2]\n",
      " [4.9 3.1 1.5 0.2]\n",
      " [5.  3.2 1.2 0.2]\n",
      " [5.5 3.5 1.3 0.2]\n",
      " [4.9 3.6 1.4 0.1]\n",
      " [4.4 3.  1.3 0.2]\n",
      " [5.1 3.4 1.5 0.2]\n",
      " [5.  3.5 1.3 0.3]\n",
      " [4.5 2.3 1.3 0.3]\n",
      " [4.4 3.2 1.3 0.2]\n",
      " [5.  3.5 1.6 0.6]\n",
      " [5.1 3.8 1.9 0.4]\n",
      " [4.8 3.  1.4 0.3]\n",
      " [5.1 3.8 1.6 0.2]\n",
      " [4.6 3.2 1.4 0.2]\n",
      " [5.3 3.7 1.5 0.2]\n",
      " [5.  3.3 1.4 0.2]\n",
      " [7.  3.2 4.7 1.4]\n",
      " [6.4 3.2 4.5 1.5]\n",
      " [6.9 3.1 4.9 1.5]\n",
      " [5.5 2.3 4.  1.3]\n",
      " [6.5 2.8 4.6 1.5]\n",
      " [5.7 2.8 4.5 1.3]\n",
      " [6.3 3.3 4.7 1.6]\n",
      " [4.9 2.4 3.3 1. ]\n",
      " [6.6 2.9 4.6 1.3]\n",
      " [5.2 2.7 3.9 1.4]\n",
      " [5.  2.  3.5 1. ]\n",
      " [5.9 3.  4.2 1.5]\n",
      " [6.  2.2 4.  1. ]\n",
      " [6.1 2.9 4.7 1.4]\n",
      " [5.6 2.9 3.6 1.3]\n",
      " [6.7 3.1 4.4 1.4]\n",
      " [5.6 3.  4.5 1.5]\n",
      " [5.8 2.7 4.1 1. ]\n",
      " [6.2 2.2 4.5 1.5]\n",
      " [5.6 2.5 3.9 1.1]\n",
      " [5.9 3.2 4.8 1.8]\n",
      " [6.1 2.8 4.  1.3]\n",
      " [6.3 2.5 4.9 1.5]\n",
      " [6.1 2.8 4.7 1.2]\n",
      " [6.4 2.9 4.3 1.3]\n",
      " [6.6 3.  4.4 1.4]\n",
      " [6.8 2.8 4.8 1.4]\n",
      " [6.7 3.  5.  1.7]\n",
      " [6.  2.9 4.5 1.5]\n",
      " [5.7 2.6 3.5 1. ]\n",
      " [5.5 2.4 3.8 1.1]\n",
      " [5.5 2.4 3.7 1. ]\n",
      " [5.8 2.7 3.9 1.2]\n",
      " [6.  2.7 5.1 1.6]\n",
      " [5.4 3.  4.5 1.5]\n",
      " [6.  3.4 4.5 1.6]\n",
      " [6.7 3.1 4.7 1.5]\n",
      " [6.3 2.3 4.4 1.3]\n",
      " [5.6 3.  4.1 1.3]\n",
      " [5.5 2.5 4.  1.3]\n",
      " [5.5 2.6 4.4 1.2]\n",
      " [6.1 3.  4.6 1.4]\n",
      " [5.8 2.6 4.  1.2]\n",
      " [5.  2.3 3.3 1. ]\n",
      " [5.6 2.7 4.2 1.3]\n",
      " [5.7 3.  4.2 1.2]\n",
      " [5.7 2.9 4.2 1.3]\n",
      " [6.2 2.9 4.3 1.3]\n",
      " [5.1 2.5 3.  1.1]\n",
      " [5.7 2.8 4.1 1.3]\n",
      " [6.3 3.3 6.  2.5]\n",
      " [5.8 2.7 5.1 1.9]\n",
      " [7.1 3.  5.9 2.1]\n",
      " [6.3 2.9 5.6 1.8]\n",
      " [6.5 3.  5.8 2.2]\n",
      " [7.6 3.  6.6 2.1]\n",
      " [4.9 2.5 4.5 1.7]\n",
      " [7.3 2.9 6.3 1.8]\n",
      " [6.7 2.5 5.8 1.8]\n",
      " [7.2 3.6 6.1 2.5]\n",
      " [6.5 3.2 5.1 2. ]\n",
      " [6.4 2.7 5.3 1.9]\n",
      " [6.8 3.  5.5 2.1]\n",
      " [5.7 2.5 5.  2. ]\n",
      " [5.8 2.8 5.1 2.4]\n",
      " [6.4 3.2 5.3 2.3]\n",
      " [6.5 3.  5.5 1.8]\n",
      " [7.7 3.8 6.7 2.2]\n",
      " [7.7 2.6 6.9 2.3]\n",
      " [6.  2.2 5.  1.5]\n",
      " [6.9 3.2 5.7 2.3]\n",
      " [5.6 2.8 4.9 2. ]\n",
      " [7.7 2.8 6.7 2. ]\n",
      " [6.3 2.7 4.9 1.8]\n",
      " [6.7 3.3 5.7 2.1]\n",
      " [7.2 3.2 6.  1.8]\n",
      " [6.2 2.8 4.8 1.8]\n",
      " [6.1 3.  4.9 1.8]\n",
      " [6.4 2.8 5.6 2.1]\n",
      " [7.2 3.  5.8 1.6]\n",
      " [7.4 2.8 6.1 1.9]\n",
      " [7.9 3.8 6.4 2. ]\n",
      " [6.4 2.8 5.6 2.2]\n",
      " [6.3 2.8 5.1 1.5]\n",
      " [6.1 2.6 5.6 1.4]\n",
      " [7.7 3.  6.1 2.3]\n",
      " [6.3 3.4 5.6 2.4]\n",
      " [6.4 3.1 5.5 1.8]\n",
      " [6.  3.  4.8 1.8]\n",
      " [6.9 3.1 5.4 2.1]\n",
      " [6.7 3.1 5.6 2.4]\n",
      " [6.9 3.1 5.1 2.3]\n",
      " [5.8 2.7 5.1 1.9]\n",
      " [6.8 3.2 5.9 2.3]\n",
      " [6.7 3.3 5.7 2.5]\n",
      " [6.7 3.  5.2 2.3]\n",
      " [6.3 2.5 5.  1.9]\n",
      " [6.5 3.  5.2 2. ]\n",
      " [6.2 3.4 5.4 2.3]\n",
      " [5.9 3.  5.1 1.8]]\n",
      "shape of data: (150, 4)\n"
     ]
    }
   ],
   "source": [
    "from sklearn.datasets import load_iris ## 붓꽃 데이터\n",
    "\n",
    "iris_dataset = load_iris() ## 변수에 할당\n",
    "print(iris_dataset['data'])  ## data 값 확인해보기\n",
    "print(\"shape of data: {}\".format(iris_dataset['data'].shape))\n",
    "\n",
    "# (150,4)로 전체 150개의 데이터가 각각 4개의 특징값을 가지고 있음"
   ]
  },
  {
   "cell_type": "code",
   "execution_count": 5,
   "id": "c0b88964",
   "metadata": {},
   "outputs": [
    {
     "name": "stdout",
     "output_type": "stream",
     "text": [
      "['sepal length (cm)', 'sepal width (cm)', 'petal length (cm)', 'petal width (cm)']\n"
     ]
    }
   ],
   "source": [
    "from sklearn.datasets import load_iris ## 붓꽃 데이터\n",
    "\n",
    "iris_dataset = load_iris() ## 변수에 할당\n",
    "print(iris_dataset['feature_names']) ## 특징의 이름\n",
    "\n",
    "## ['sepal length (cm)', 'sepal width (cm)', 'petal length (cm)', 'petal width (cm)']\n",
    "## 꽃받침의 길이, 꽃받침의 너비, 꽃잎 길이, 꽃잎 너비\n"
   ]
  },
  {
   "cell_type": "code",
   "execution_count": 6,
   "id": "d69e76e4",
   "metadata": {},
   "outputs": [
    {
     "name": "stdout",
     "output_type": "stream",
     "text": [
      "[0 0 0 0 0 0 0 0 0 0 0 0 0 0 0 0 0 0 0 0 0 0 0 0 0 0 0 0 0 0 0 0 0 0 0 0 0\n",
      " 0 0 0 0 0 0 0 0 0 0 0 0 0 1 1 1 1 1 1 1 1 1 1 1 1 1 1 1 1 1 1 1 1 1 1 1 1\n",
      " 1 1 1 1 1 1 1 1 1 1 1 1 1 1 1 1 1 1 1 1 1 1 1 1 1 1 2 2 2 2 2 2 2 2 2 2 2\n",
      " 2 2 2 2 2 2 2 2 2 2 2 2 2 2 2 2 2 2 2 2 2 2 2 2 2 2 2 2 2 2 2 2 2 2 2 2 2\n",
      " 2 2]\n",
      "['setosa' 'versicolor' 'virginica']\n"
     ]
    }
   ],
   "source": [
    "from sklearn.datasets import load_iris ## 붓꽃 데이터\n",
    "\n",
    "iris_dataset = load_iris() ## 변수에 할당\n",
    "print(iris_dataset['target']) ## target 값과\n",
    "print(iris_dataset['target_names'])\n",
    "\n",
    "## 0,1,2 로 총 3개의 라벨을 가지고 있음\n",
    "##['setosa' 'versicolor' 'virginica']"
   ]
  },
  {
   "cell_type": "code",
   "execution_count": 7,
   "id": "2b63a662",
   "metadata": {},
   "outputs": [
    {
     "name": "stdout",
     "output_type": "stream",
     "text": [
      ".. _iris_dataset:\n",
      "\n",
      "Iris plants dataset\n",
      "--------------------\n",
      "\n",
      "**Data Set Characteristics:**\n",
      "\n",
      "    :Number of Instances: 150 (50 in each of three classes)\n",
      "    :Number of Attributes: 4 numeric, predictive attributes and the class\n",
      "    :Attribute Information:\n",
      "        - sepal length in cm\n",
      "        - sepal width in cm\n",
      "        - petal length in cm\n",
      "        - petal width in cm\n",
      "        - class:\n",
      "                - Iris-Setosa\n",
      "                - Iris-Versicolour\n",
      "                - Iris-Virginica\n",
      "                \n",
      "    :Summary Statistics:\n",
      "\n",
      "    ============== ==== ==== ======= ===== ====================\n",
      "                    Min  Max   Mean    SD   Class Correlation\n",
      "    ============== ==== ==== ======= ===== ====================\n",
      "    sepal length:   4.3  7.9   5.84   0.83    0.7826\n",
      "    sepal width:    2.0  4.4   3.05   0.43   -0.4194\n",
      "    petal length:   1.0  6.9   3.76   1.76    0.9490  (high!)\n",
      "    petal width:    0.1  2.5   1.20   0.76    0.9565  (high!)\n",
      "    ============== ==== ==== ======= ===== ====================\n",
      "\n",
      "    :Missing Attribute Values: None\n",
      "    :Class Distribution: 33.3% for each of 3 classes.\n",
      "    :Creator: R.A. Fisher\n",
      "    :Donor: Michael Marshall (MARSHALL%PLU@io.arc.nasa.gov)\n",
      "    :Date: July, 1988\n",
      "\n",
      "The famous Iris database, first used by Sir R.A. Fisher. The dataset is taken\n",
      "from Fisher's paper. Note that it's the same as in R, but not as in the UCI\n",
      "Machine Learning Repository, which has two wrong data points.\n",
      "\n",
      "This is perhaps the best known database to be found in the\n",
      "pattern recognition literature.  Fisher's paper is a classic in the field and\n",
      "is referenced frequently to this day.  (See Duda & Hart, for example.)  The\n",
      "data set contains 3 classes of 50 instances each, where each class refers to a\n",
      "type of iris plant.  One class is linearly separable from the other 2; the\n",
      "latter are NOT linearly separable from each other.\n",
      "\n",
      ".. topic:: References\n",
      "\n",
      "   - Fisher, R.A. \"The use of multiple measurements in taxonomic problems\"\n",
      "     Annual Eugenics, 7, Part II, 179-188 (1936); also in \"Contributions to\n",
      "     Mathematical Statistics\" (John Wiley, NY, 1950).\n",
      "   - Duda, R.O., & Hart, P.E. (1973) Pattern Classification and Scene Analysis.\n",
      "     (Q327.D83) John Wiley & Sons.  ISBN 0-471-22361-1.  See page 218.\n",
      "   - Dasarathy, B.V. (1980) \"Nosing Around the Neighborhood: A New System\n",
      "     Structure and Classification Rule for Recognition in Partially Exposed\n",
      "     Environments\".  IEEE Transactions on Pattern Analysis and Machine\n",
      "     Intelligence, Vol. PAMI-2, No. 1, 67-71.\n",
      "   - Gates, G.W. (1972) \"The Reduced Nearest Neighbor Rule\".  IEEE Transactions\n",
      "     on Information Theory, May 1972, 431-433.\n",
      "   - See also: 1988 MLC Proceedings, 54-64.  Cheeseman et al\"s AUTOCLASS II\n",
      "     conceptual clustering system finds 3 classes in the data.\n",
      "   - Many, many more ...\n"
     ]
    }
   ],
   "source": [
    "from sklearn.datasets import load_iris ## 붓꽃 데이터\n",
    "\n",
    "iris_dataset = load_iris() ## 변수에 할당\n",
    "print(iris_dataset['DESCR']) ## Description의 약자로서 해당 데이터에 대한 전체적인 요약 정보를 보여줌 "
   ]
  },
  {
   "cell_type": "markdown",
   "id": "25763cce",
   "metadata": {},
   "source": [
    "### 사이킷런을 이용한 데이터 분리"
   ]
  },
  {
   "cell_type": "code",
   "execution_count": 8,
   "id": "20a01adc",
   "metadata": {},
   "outputs": [
    {
     "name": "stdout",
     "output_type": "stream",
     "text": [
      "shape of train_input: (112, 4)\n",
      "shape of test_input: (38, 4)\n",
      "shape of train_label: (112,)\n",
      "shape of test_label: (38,)\n"
     ]
    }
   ],
   "source": [
    "from sklearn.model_selection import train_test_split\n",
    "\n",
    "## train_test_split 함수에 학습데이터와 라벨을 넣으면 정의한 비율로 데이터를 나눈다.\n",
    "\n",
    "train_input, test_input, train_label, test_label = train_test_split(iris_dataset['data'],\n",
    "                                                                   iris_dataset['target'],\n",
    "                                                                   test_size = 0.25, # 전체 학습 데이터의 25프로 따로 나눔\n",
    "                                                                   random_state = 42)\n",
    "\n",
    "\n",
    "print(\"shape of train_input: {}\".format(train_input.shape))\n",
    "print(\"shape of test_input: {}\".format(test_input.shape))\n",
    "print(\"shape of train_label: {}\".format(train_label.shape))\n",
    "print(\"shape of test_label: {}\".format(test_label.shape))\n",
    "\n",
    "## shape of train_input: (112, 4)\n",
    "## shape of test_input: (38, 4)\n",
    "## shape of train_label: (112,)\n",
    "## shape of test_label: (38,)"
   ]
  },
  {
   "cell_type": "markdown",
   "id": "b5bbb4c2",
   "metadata": {},
   "source": [
    "* 결과를 보면 학습 데이터 (112)개 / 평가 데이터 (38개) => 평가데이터의 크기를 25%로 설정했기 때문에 \n",
    "\n",
    "</br>\n",
    "* 학습 데이터와 평가 데이터가 따로 존재하지 않는 경우에는 이처럼 학습 데이터의 일부분을 평가 데이터로 사용\n",
    "\n",
    "* 평가 데이터가 있는 경우에도 이 함수를 사용해 학습 데이터의 일부를 따로 분리하는 경우가 있다 </br>\n",
    "    - 학습 데이터와 검증 데이터로 구분하기 위함 \n",
    "           - 1) 우선 학습 데이터를 사용해 모델을 학습시킨다.\n",
    "           - 2) 모델에 대해 일차적으로 검증 데이터를 사용해 검증한다.\n",
    "           - 3) 그 결과를 통해 하이퍼파라미터를 수정한다.\n",
    "           - 4) 검증 과정/ 학습 과정을 반복한 후 최종적으로 평가 데이터로 평가한다.\n",
    "        \n"
   ]
  },
  {
   "cell_type": "markdown",
   "id": "0d325ef7",
   "metadata": {},
   "source": [
    "### 사이킷런을 이용한 지도학습\n",
    "\n",
    "* 지도 학습 : 각 데이터에 대해 정답이 있는 경우 , 각 데이터의 정답을 예측할 수 있게 학습시키는 과정\n",
    "\n",
    "* K-근접 이웃 분류기 (k-nearest neighbor classifier)\n",
    "    - 예측하고자 하는 데이터의 가장 가까운 거리에 있는 데이터의 라벨과 같다고 예측하는 방법\n",
    "    - 데이터에 대한 사전 지식이 없는 경우의 분류에 많이 사용 됨 \n",
    "    \n",
    "    \n",
    "* K값 : 예측하고자 하는 데이터와 가까운 몇 개의 데이터를 참고할 것인지를 의미 함 \n",
    "\n",
    "\n",
    "* K- 최근접 이웃 분류기의 특징\n",
    "    - 데이터에 대한 가정이 없어서 단순함\n",
    "    - 다목적 분류와 회귀에 좋다\n",
    "    - 높은 메모리를 요구한다\n",
    "    - k값이 커지면 계산이 늦어질 수 있다\n",
    "    - 관련 없는 기능의 data 규모에 민감하다"
   ]
  },
  {
   "cell_type": "code",
   "execution_count": 15,
   "id": "3e4271d6",
   "metadata": {},
   "outputs": [
    {
     "name": "stdout",
     "output_type": "stream",
     "text": [
      "[1 0 2 1 1 0 1 2 1 1 2 0 0 0 0 1 2 1 1 2 0 2 0 2 2 2 2 2 0 0 0 0 1 0 0 2 1\n",
      " 0]\n",
      "test accuracy 1.00\n"
     ]
    },
    {
     "name": "stderr",
     "output_type": "stream",
     "text": [
      "/Users/tmp/opt/anaconda3/lib/python3.9/site-packages/sklearn/neighbors/_classification.py:228: FutureWarning: Unlike other reduction functions (e.g. `skew`, `kurtosis`), the default behavior of `mode` typically preserves the axis it acts along. In SciPy 1.11.0, this behavior will change: the default value of `keepdims` will become False, the `axis` over which the statistic is taken will be eliminated, and the value None will no longer be accepted. Set `keepdims` to True or False to avoid this warning.\n",
      "  mode, _ = stats.mode(_y[neigh_ind, k], axis=1)\n",
      "/Users/tmp/opt/anaconda3/lib/python3.9/site-packages/sklearn/neighbors/_classification.py:228: FutureWarning: Unlike other reduction functions (e.g. `skew`, `kurtosis`), the default behavior of `mode` typically preserves the axis it acts along. In SciPy 1.11.0, this behavior will change: the default value of `keepdims` will become False, the `axis` over which the statistic is taken will be eliminated, and the value None will no longer be accepted. Set `keepdims` to True or False to avoid this warning.\n",
      "  mode, _ = stats.mode(_y[neigh_ind, k], axis=1)\n"
     ]
    }
   ],
   "source": [
    "## 데이터 불러오기\n",
    "from sklearn.datasets import load_iris\n",
    "\n",
    "iris_dataset = load_iris()\n",
    "\n",
    "\n",
    "## 데이터 훈련 / 테스트로 나누기 \n",
    "\n",
    "from sklearn.model_selection import train_test_split\n",
    "\n",
    "train_input, test_input, train_label, test_label = train_test_split(iris_dataset['data'],\n",
    "                                                                   iris_dataset['target'],\n",
    "                                                                   test_size = 0.25,\n",
    "                                                                   random_state = 42)\n",
    "\n",
    "\n",
    "## k-nearest neighbor classifier 모델 만들기\n",
    "\n",
    "from sklearn.neighbors import KNeighborsClassifier\n",
    "\n",
    "knn = KNeighborsClassifier(n_neighbors = 1) # n_neighbors 인자값 ->> K 값 , 즉 참조할 이웃값 의미\n",
    "\n",
    "knn.fit(train_input, train_label)\n",
    "\n",
    "KNeighborsClassifier(algorithm ='auto',\n",
    "                    leaf_size = 30,\n",
    "                    metric = 'minkowski',\n",
    "                    metric_params = None,\n",
    "                    n_jobs = 1, \n",
    "                    n_neighbors = 1,\n",
    "                    p = 2,\n",
    "                    weights = 'uniform')\n",
    "\n",
    "\n",
    "\n",
    "import numpy as np\n",
    "\n",
    "new_input = np.array([[6.1,2.8,4.7,1.2]])\n",
    "\n",
    "## 4개의 특징값을 직접 입력해서 넘파이 배열로 만들었다. \n",
    "## 리스트 안에 또 하나의 리스트가 있는 방식으로 만들었는데 이렇게 하지 않으면 오류가 발생함\n",
    "\n",
    "knn.predict(new_input)\n",
    "\n",
    "## output => array([1])\n",
    "\n",
    "## 보다시피 1(Versicolor)로 예측하고 있다.\n",
    "\n",
    "predict_label = knn.predict(test_input)\n",
    "print(predict_label)\n",
    "\n",
    "## 실제 결과와 동일한 것의 개수를 평균하면 됨 \n",
    "print('test accuracy {:.2f}'.format(np.mean(predict_label == test_label)))\n",
    "\n",
    "## output => test accuracy 1.00"
   ]
  },
  {
   "cell_type": "markdown",
   "id": "2d45dda6",
   "metadata": {},
   "source": [
    "## 비지도 학습"
   ]
  },
  {
   "cell_type": "markdown",
   "id": "7e1d1b86",
   "metadata": {},
   "source": [
    "* 데이터에 대한 정답(라벨) 없이 만들 수 있는 모델\n",
    "</br>\n",
    "\n",
    "* 데이터에 대한 정답이 없는 경우에 적용하기 적합한 모델이다.\n",
    "\n",
    "    [군집화] : 데이터를 특성에 따라 여러 집단으로 나누는 것\n",
    "        \n",
    "    * 대표 예시 : K-mean Clustering (k-평균 군집화)\n",
    "    \n",
    "\n",
    "* K-평균 군집화 훈련 방식\n",
    "    - 데이터 안에서 대표하는 군집의 중심을 찾는 알고리즘\n",
    "    - 알고리즘은 계속해서 반복적으로 수행함, 우선 k개 만큼의 중심을 임의로 설정함\n",
    "    - 모든 데이터를 가장 가까운 중심에 할당한다 / 같은 중심에 할당된 데이터들을 하나의 군집으로 판단한다\n",
    "    - 각 군집 내 데이터들을 가지고 군집의 중심을 새로 구해서 업데이트 한다\n",
    "    - 이것을 계속 반복한다 <= 데이터의 변화가 없을 때 까지"
   ]
  },
  {
   "cell_type": "code",
   "execution_count": 13,
   "id": "a594214b",
   "metadata": {},
   "outputs": [
    {
     "name": "stdout",
     "output_type": "stream",
     "text": [
      "[1 1 0 0 0 1 1 0 0 2 0 2 0 2 0 1 2 0 1 1 1 0 0 1 1 1 0 1 0 2 1 0 0 1 0 0 0\n",
      " 0 2 0 1 0 2 1 1 0 2 1 0 1 1 0 0 2 0 2 2 0 1 1 0 2 1 1 1 0 2 1 2 2 1 0 0 0\n",
      " 2 2 1 2 0 2 0 0 0 1 0 0 1 0 2 2 1 0 2 2 1 2 1 2 2 2 0 2 0 0 0 0 1 0 0 1 0\n",
      " 2]\n"
     ]
    },
    {
     "name": "stderr",
     "output_type": "stream",
     "text": [
      "/Users/tmp/opt/anaconda3/lib/python3.9/site-packages/sklearn/cluster/_kmeans.py:870: FutureWarning: The default value of `n_init` will change from 10 to 'auto' in 1.4. Set the value of `n_init` explicitly to suppress the warning\n",
      "  warnings.warn(\n"
     ]
    }
   ],
   "source": [
    "## 데이터 불러오기\n",
    "from sklearn.datasets import load_iris\n",
    "\n",
    "iris_dataset = load_iris()\n",
    "\n",
    "\n",
    "## 데이터 훈련 / 테스트로 나누기 \n",
    "\n",
    "from sklearn.model_selection import train_test_split\n",
    "\n",
    "train_input, test_input, train_label, test_label = train_test_split(iris_dataset['data'],\n",
    "                                                                   iris_dataset['target'],\n",
    "                                                                   test_size = 0.25,\n",
    "                                                                   random_state = 42)\n",
    "\n",
    "from sklearn.cluster import KMeans\n",
    "k_means = KMeans(n_clusters=3)\n",
    "\n",
    "k_means.fit(train_input)\n",
    "\n",
    "print(k_means.labels_)"
   ]
  },
  {
   "cell_type": "markdown",
   "id": "ef6f9bb5",
   "metadata": {},
   "source": [
    "* skleran이 업데이트 되어서 책에 나온 코드 그대로 안써도 </br>\n",
    "    k_means = KMeans(n_clusters=3) 하나로 사용가능"
   ]
  },
  {
   "cell_type": "markdown",
   "id": "11fb927e",
   "metadata": {},
   "source": [
    "* 앞선 설명에 따르면 붓꽃의 라벨을 확인 할 수 없다고 했는데 각 데이터에 라벨링이 되어있다.</br>\n",
    "    => 이것은 라벨을 의미하는 것이 아니라 3개의 군집으로 k-평균 군집화한 각 군집을 나타낸다.\n",
    "    "
   ]
  },
  {
   "cell_type": "code",
   "execution_count": 1,
   "id": "db6278b0",
   "metadata": {},
   "outputs": [
    {
     "name": "stderr",
     "output_type": "stream",
     "text": [
      "/Users/tmp/opt/anaconda3/lib/python3.9/site-packages/sklearn/cluster/_kmeans.py:870: FutureWarning: The default value of `n_init` will change from 10 to 'auto' in 1.4. Set the value of `n_init` explicitly to suppress the warning\n",
      "  warnings.warn(\n"
     ]
    },
    {
     "name": "stdout",
     "output_type": "stream",
     "text": [
      "0 cluster: [2 1 1 1 2 1 1 1 1 1 2 1 1 1 2 2 2 1 1 1 1 1 2 1 1 1 1 2 1 1 1 2 1 1 1 1 1\n",
      " 1 1 1 1 1 1 2 2 1 2 1]\n",
      "1 cluster: [0 0 0 0 0 0 0 0 0 0 0 0 0 0 0 0 0 0 0 0 0 0 0 0 0 0 0 0 0 0 0 0 0 0 0]\n",
      "2 cluster: [2 2 2 2 2 2 2 1 2 2 2 2 2 2 2 1 2 2 2 2 2 2 2 2 1 2 2 2 2]\n"
     ]
    }
   ],
   "source": [
    "## 데이터 불러오기\n",
    "from sklearn.datasets import load_iris\n",
    "\n",
    "iris_dataset = load_iris()\n",
    "\n",
    "\n",
    "## 데이터 훈련 / 테스트로 나누기 \n",
    "\n",
    "from sklearn.model_selection import train_test_split\n",
    "\n",
    "train_input, test_input, train_label, test_label = train_test_split(iris_dataset['data'],\n",
    "                                                                   iris_dataset['target'],\n",
    "                                                                   test_size = 0.25,\n",
    "                                                                   random_state = 42)\n",
    "\n",
    "from sklearn.cluster import KMeans\n",
    "k_means = KMeans(n_clusters=3)\n",
    "\n",
    "k_means.fit(train_input)\n",
    "\n",
    "print(\"0 cluster:\", train_label[k_means.labels_ ==0])\n",
    "print(\"1 cluster:\", train_label[k_means.labels_ ==1])\n",
    "print(\"2 cluster:\", train_label[k_means.labels_ ==2])"
   ]
  },
  {
   "cell_type": "markdown",
   "id": "fded931e",
   "metadata": {},
   "source": [
    "* 결과를 보면 \n",
    "    - 0번째 군집은 라벨 1인 데이터들이 주로 분포\n",
    "    - 1번째 군집은 라벨 0인 데이터들만 분포\n",
    "    - 2번째 군집은 라벨 2인 데이터들이 주로 분포\n",
    "    \n",
    "        => 따라서 새로운 데이터에 대해 예측가능\n",
    "        \n",
    "        \n",
    "* 중요한 점 \n",
    "    - 항상 결과가 위와 동일하게 나오지 않고 군집화를 진행할 때마다 바뀜\n",
    "    - 이는 k-평균 군집화 모델 알고리즘 특성 때문에 불가피하게 발생하는 현상 \n",
    "    - k-평균 군집화의 경우 처음에 초기값을 랜덤으로 설정하고 군집화 과정을 진행하는데 </br>\n",
    "        => 이러한 과정 때문에 군집화의 순서가 바뀔 수도 있다."
   ]
  },
  {
   "cell_type": "code",
   "execution_count": 17,
   "id": "b15cef38",
   "metadata": {},
   "outputs": [
    {
     "name": "stdout",
     "output_type": "stream",
     "text": [
      "[1, 0, 2, 1, 1, 0, 1, 2, 1, 1, 2, 0, 0, 0, 0, 1, 2, 1, 1, 2, 0, 1, 0, 2, 2, 2, 2, 2, 0, 0, 0, 0, 1, 0, 0, 1, 1, 0]\n",
      "test accuracy 0.95\n"
     ]
    },
    {
     "name": "stderr",
     "output_type": "stream",
     "text": [
      "/Users/tmp/opt/anaconda3/lib/python3.9/site-packages/sklearn/cluster/_kmeans.py:870: FutureWarning: The default value of `n_init` will change from 10 to 'auto' in 1.4. Set the value of `n_init` explicitly to suppress the warning\n",
      "  warnings.warn(\n"
     ]
    }
   ],
   "source": [
    "## 데이터 불러오기\n",
    "from sklearn.datasets import load_iris\n",
    "\n",
    "iris_dataset = load_iris()\n",
    "\n",
    "\n",
    "## 데이터 훈련 / 테스트로 나누기 \n",
    "\n",
    "from sklearn.model_selection import train_test_split\n",
    "\n",
    "train_input, test_input, train_label, test_label = train_test_split(iris_dataset['data'],\n",
    "                                                                   iris_dataset['target'],\n",
    "                                                                   test_size = 0.25,\n",
    "                                                                   random_state = 42)\n",
    "\n",
    "from sklearn.cluster import KMeans\n",
    "k_means = KMeans(n_clusters=3)\n",
    "\n",
    "k_means.fit(train_input)\n",
    "\n",
    "## 임의의 새로운 데이터를 만들어서 예측을 진행해보기\n",
    "\n",
    "import numpy as np\n",
    "new_input = np.array([[6.1,2.8,4.7,1.2]])\n",
    "\n",
    "# prediction = k_means.predict(new_input)\n",
    "# print(prediction)\n",
    "\n",
    "## 실행할 때마다 결과가 바뀜 (띠용?)\n",
    "## [0]\n",
    "\n",
    "# 해당 모델의 성능을 측정하기 위해 평가 데이터를 적용시켜 실제 라벨과 비교해 보기\n",
    "\n",
    "predict_cluster = k_means.predict(test_input)\n",
    "# print(predict_cluster)\n",
    "# [0 1 2 0 0 1 0 2 0 0 2 1 1 1 1 0 2 0 0 2 1 0 1 2 2 2 2 2 1 1 1 1 0 1 1 0 0\n",
    "# 1]\n",
    "\n",
    "# 평가 데이터를 적용시켜 예측한 군집을 이제 각 붓꽃의 종을 의미하는 라벨값으로 다시 바꿔줘야 실제 라벨과 비교해서 성능 측정할 수 있다.\n",
    "\n",
    "np_arr = np.array(predict_cluster)\n",
    "np_arr[np_arr==0], np_arr[np_arr==1], np_arr[np_arr==2] = 3,4,5\n",
    "\n",
    "np_arr[np_arr ==3] =1\n",
    "np_arr[np_arr ==4] =0\n",
    "np_arr[np_arr ==5] =2\n",
    "\n",
    "predict_label = np_arr.tolist()\n",
    "print(predict_label)\n",
    "\n",
    "\n",
    "# [1, 0, 2, 1, 1, 0, 1, 2, 1, 1, 2, 0, 0, 0, 0, 1, 2, 1, 1, 2, 0, 1, 0, 2, 2, 2, 2, 2, 0, 0, 0, 0, 1, 0, 0, 1, 1, 0]\n",
    "\n",
    "# 각 데이터가 속한 군집의 순서를 실제 붓꽃의 라벨로 바꾸어줌 \n",
    "# 만약 군집의 라벨 분포가 다르게 나온다면 각 군집이 어떤 라벨을 의미하는지 파악 후 해당 라벨로 바꿔줘야 한다.\n",
    "\n",
    "# 여기서는 0 번째 군집이 라벨 1, 1 번째 군집이 라벨 0, 2 번째 군집이 라벨 2를 의미한다\n",
    "\n",
    "# 이를 변경할 때는 임시 저장을 위해 군집의 순서값 3,4,5 를 넘파이 배열로 우선 만들어준다.\n",
    "# 이후 군집 3을 1로 , 군집 4를 0으로 , 군집 5를 2로 바꾸어줌\n",
    "\n",
    "print('test accuracy {:.2f}'.format(np.mean(predict_label == test_label)))\n",
    "\n",
    "## 실행 시 마다 결과가 바뀜..아놔 \n",
    "## 높은 실행결과 : 0.95"
   ]
  }
 ],
 "metadata": {
  "kernelspec": {
   "display_name": "Python 3 (ipykernel)",
   "language": "python",
   "name": "python3"
  },
  "language_info": {
   "codemirror_mode": {
    "name": "ipython",
    "version": 3
   },
   "file_extension": ".py",
   "mimetype": "text/x-python",
   "name": "python",
   "nbconvert_exporter": "python",
   "pygments_lexer": "ipython3",
   "version": "3.9.13"
  }
 },
 "nbformat": 4,
 "nbformat_minor": 5
}
